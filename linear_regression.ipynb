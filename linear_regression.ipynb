{
 "cells": [
  {
   "cell_type": "code",
   "execution_count": 1,
   "metadata": {},
   "outputs": [],
   "source": [
    "import pandas as pd\n",
    "import numpy as np"
   ]
  },
  {
   "cell_type": "code",
   "execution_count": 2,
   "metadata": {},
   "outputs": [],
   "source": [
    "def linearRegression(X_train, Y_train):\n",
    "    m_curr = 1\n",
    "    b_curr = 1\n",
    "    learning_rate = 0.01\n",
    "    epochs = 5000\n",
    "\n",
    "    n = len(X_train)\n",
    "\n",
    "    for i in range(epochs):\n",
    "        Y_pred = m_curr * X_train + b_curr\n",
    "        cost = (1/n) * sum((Y_train - Y_pred) ** 2)\n",
    "\n",
    "        md = -(2/n) * sum(X_train * (Y_train - Y_pred))\n",
    "        bd = -(2/n) * sum(Y_train - Y_pred)\n",
    "\n",
    "        m_curr = m_curr - learning_rate * md\n",
    "        b_curr = b_curr - learning_rate * bd\n",
    "\n",
    "        if (i+1)%1000==0:\n",
    "\n",
    "            print(f'epoch: {i+1}, cost: {cost}, m: {m_curr}, b: {b_curr}')\n",
    "    return m_curr,b_curr"
   ]
  },
  {
   "cell_type": "markdown",
   "metadata": {},
   "source": [
    "Example data"
   ]
  },
  {
   "cell_type": "code",
   "execution_count": 3,
   "metadata": {},
   "outputs": [],
   "source": [
    "X_train = np.array([1, 2, 3, 4, 5])\n",
    "Y_train = np.array([7, 11, 15, 19, 23])"
   ]
  },
  {
   "cell_type": "markdown",
   "metadata": {},
   "source": [
    "Finding parameters"
   ]
  },
  {
   "cell_type": "code",
   "execution_count": 4,
   "metadata": {},
   "outputs": [
    {
     "name": "stdout",
     "output_type": "stream",
     "text": [
      "epoch: 1000, cost: 0.00024709953027057693, m: 4.010170989348577, b: 2.9632795012141937\n",
      "epoch: 2000, cost: 2.8263761072506524e-07, m: 4.000343987147475, b: 2.998758097251084\n",
      "epoch: 3000, cost: 3.2328681045625027e-10, m: 4.000011633790341, b: 2.9999579983254887\n",
      "epoch: 4000, cost: 3.697822136512224e-13, m: 4.000000393459693, b: 2.9999985794856645\n",
      "epoch: 5000, cost: 4.2296460807578606e-16, m: 4.000000013306972, b: 2.9999999519576064\n"
     ]
    }
   ],
   "source": [
    "m,b=linearRegression(X_train,Y_train)"
   ]
  },
  {
   "cell_type": "markdown",
   "metadata": {},
   "source": [
    "Function to predict the output"
   ]
  },
  {
   "cell_type": "code",
   "execution_count": 5,
   "metadata": {},
   "outputs": [],
   "source": [
    "def predict(m,b,x_test):\n",
    "  y_pred=(m*x_test)+b\n",
    "  print(y_pred)"
   ]
  },
  {
   "cell_type": "markdown",
   "metadata": {},
   "source": [
    "Finding the Y value for a x"
   ]
  },
  {
   "cell_type": "code",
   "execution_count": 6,
   "metadata": {},
   "outputs": [
    {
     "name": "stdout",
     "output_type": "stream",
     "text": [
      "19.000000005185495\n"
     ]
    }
   ],
   "source": [
    "predict(m,b,4)"
   ]
  }
 ],
 "metadata": {
  "kernelspec": {
   "display_name": "hackathon",
   "language": "python",
   "name": "python3"
  },
  "language_info": {
   "codemirror_mode": {
    "name": "ipython",
    "version": 3
   },
   "file_extension": ".py",
   "mimetype": "text/x-python",
   "name": "python",
   "nbconvert_exporter": "python",
   "pygments_lexer": "ipython3",
   "version": "3.9.18"
  }
 },
 "nbformat": 4,
 "nbformat_minor": 2
}
